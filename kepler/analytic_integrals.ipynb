{
 "cells": [
  {
   "cell_type": "code",
   "execution_count": 39,
   "metadata": {},
   "outputs": [],
   "source": [
    "import sympy as sm"
   ]
  },
  {
   "cell_type": "code",
   "execution_count": 40,
   "metadata": {},
   "outputs": [],
   "source": [
    "c1, c2, c3, c4, r, z, p = sm.symbols(['c1', 'c2', 'c3', 'c4', 'r', 'z', 'p'], real=True, positive=True)"
   ]
  },
  {
   "cell_type": "code",
   "execution_count": 41,
   "metadata": {},
   "outputs": [],
   "source": [
    "mu = sm.sqrt(1 - r**2)\n",
    "Ir = 1 - c1 * (1 - mu ** sm.Rational(1/2)) - c2 * (1 - mu) - c3 * (1 - mu ** sm.Rational(3/2)) - c4 * (1 - mu ** 2)"
   ]
  },
  {
   "cell_type": "code",
   "execution_count": 42,
   "metadata": {},
   "outputs": [
    {
     "data": {
      "text/latex": [
       "$\\displaystyle - \\frac{4 c_{1} \\sqrt[4]{1 - \\left(- p + z\\right)^{2}} \\left(p - z\\right)^{2}}{5} + \\frac{4 c_{1} \\sqrt[4]{1 - \\left(- p + z\\right)^{2}}}{5} + \\frac{4 c_{1} \\sqrt[4]{1 - \\left(p + z\\right)^{2}} \\left(p + z\\right)^{2}}{5} - \\frac{4 c_{1} \\sqrt[4]{1 - \\left(p + z\\right)^{2}}}{5} + c_{1} \\left(p - z\\right)^{2} - c_{1} \\left(p + z\\right)^{2} - \\frac{2 c_{2} \\sqrt{1 - \\left(- p + z\\right)^{2}} \\left(p - z\\right)^{2}}{3} + \\frac{2 c_{2} \\sqrt{1 - \\left(- p + z\\right)^{2}}}{3} + \\frac{2 c_{2} \\sqrt{1 - \\left(p + z\\right)^{2}} \\left(p + z\\right)^{2}}{3} - \\frac{2 c_{2} \\sqrt{1 - \\left(p + z\\right)^{2}}}{3} + c_{2} \\left(p - z\\right)^{2} - c_{2} \\left(p + z\\right)^{2} - \\frac{4 c_{3} \\left(1 - \\left(- p + z\\right)^{2}\\right)^{\\frac{3}{4}} \\left(p - z\\right)^{2}}{7} + \\frac{4 c_{3} \\left(1 - \\left(- p + z\\right)^{2}\\right)^{\\frac{3}{4}}}{7} + \\frac{4 c_{3} \\left(1 - \\left(p + z\\right)^{2}\\right)^{\\frac{3}{4}} \\left(p + z\\right)^{2}}{7} - \\frac{4 c_{3} \\left(1 - \\left(p + z\\right)^{2}\\right)^{\\frac{3}{4}}}{7} + c_{3} \\left(p - z\\right)^{2} - c_{3} \\left(p + z\\right)^{2} + \\frac{c_{4} \\left(p - z\\right)^{4}}{2} - \\frac{c_{4} \\left(p + z\\right)^{4}}{2} - \\left(p - z\\right)^{2} + \\left(p + z\\right)^{2}$"
      ],
      "text/plain": [
       "-4*c1*(1 - (-p + z)**2)**(1/4)*(p - z)**2/5 + 4*c1*(1 - (-p + z)**2)**(1/4)/5 + 4*c1*(1 - (p + z)**2)**(1/4)*(p + z)**2/5 - 4*c1*(1 - (p + z)**2)**(1/4)/5 + c1*(p - z)**2 - c1*(p + z)**2 - 2*c2*sqrt(1 - (-p + z)**2)*(p - z)**2/3 + 2*c2*sqrt(1 - (-p + z)**2)/3 + 2*c2*sqrt(1 - (p + z)**2)*(p + z)**2/3 - 2*c2*sqrt(1 - (p + z)**2)/3 + c2*(p - z)**2 - c2*(p + z)**2 - 4*c3*(1 - (-p + z)**2)**(3/4)*(p - z)**2/7 + 4*c3*(1 - (-p + z)**2)**(3/4)/7 + 4*c3*(1 - (p + z)**2)**(3/4)*(p + z)**2/7 - 4*c3*(1 - (p + z)**2)**(3/4)/7 + c3*(p - z)**2 - c3*(p + z)**2 + c4*(p - z)**4/2 - c4*(p + z)**4/2 - (p - z)**2 + (p + z)**2"
      ]
     },
     "execution_count": 42,
     "metadata": {},
     "output_type": "execute_result"
    }
   ],
   "source": [
    "inside = sm.integrate(Ir * 2 * r, (r, z-p, z+p))\n",
    "sm.simplify(inside)"
   ]
  },
  {
   "cell_type": "code",
   "execution_count": 43,
   "metadata": {},
   "outputs": [],
   "source": [
    "result = sm.simplify(sm.collect(sm.collect(sm.simplify(sm.expand(inside)), -p**2 - 2 * p * z - z**2 + 1),-p**2 + 2 * p * z - z**2 + 1)) "
   ]
  },
  {
   "cell_type": "code",
   "execution_count": 44,
   "metadata": {},
   "outputs": [],
   "source": [
    "alpha, beta = sm.symbols(['alpha', 'beta'], real=True)"
   ]
  },
  {
   "cell_type": "code",
   "execution_count": 49,
   "metadata": {},
   "outputs": [
    {
     "data": {
      "text/latex": [
       "$\\displaystyle 0$"
      ],
      "text/plain": [
       "0"
      ]
     },
     "execution_count": 49,
     "metadata": {},
     "output_type": "execute_result"
    }
   ],
   "source": [
    "result.subs(z, 0)"
   ]
  },
  {
   "cell_type": "code",
   "execution_count": 77,
   "metadata": {},
   "outputs": [
    {
     "data": {
      "text/latex": [
       "$\\displaystyle - \\frac{4 \\alpha^{\\frac{7}{4}} c_{3}}{7} - \\frac{4 \\alpha^{\\frac{5}{4}} c_{1}}{5} - \\frac{2 \\alpha^{\\frac{3}{2}} c_{2}}{3} + \\frac{4 \\beta^{\\frac{7}{4}} c_{3}}{7} + \\frac{4 \\beta^{\\frac{5}{4}} c_{1}}{5} + \\frac{2 \\beta^{\\frac{3}{2}} c_{2}}{3} - 4 c_{1} p z - 4 c_{2} p z - 4 c_{3} p z - 4 c_{4} p^{3} z - 4 c_{4} p z^{3} + 4 p z$"
      ],
      "text/plain": [
       "-4*alpha**(7/4)*c3/7 - 4*alpha**(5/4)*c1/5 - 2*alpha**(3/2)*c2/3 + 4*beta**(7/4)*c3/7 + 4*beta**(5/4)*c1/5 + 2*beta**(3/2)*c2/3 - 4*c1*p*z - 4*c2*p*z - 4*c3*p*z - 4*c4*p**3*z - 4*c4*p*z**3 + 4*p*z"
      ]
     },
     "execution_count": 77,
     "metadata": {},
     "output_type": "execute_result"
    }
   ],
   "source": [
    "result.subs(-p**2 - 2 * p * z - z**2 + 1, alpha).subs(-p**2 + 2 * p * z - z**2 + 1, beta)"
   ]
  },
  {
   "cell_type": "code",
   "execution_count": 78,
   "metadata": {},
   "outputs": [
    {
     "name": "stdout",
     "output_type": "stream",
     "text": [
      "-4*alpha**(7/4)*c3/7 - 4*alpha**(5/4)*c1/5 - 2*alpha**(3/2)*c2/3 + 4*beta**(7/4)*c3/7 + 4*beta**(5/4)*c1/5 + 2*beta**(3/2)*c2/3 - 4*c1*p*z - 4*c2*p*z - 4*c3*p*z - 4*c4*p**3*z - 4*c4*p*z**3 + 4*p*z\n"
     ]
    }
   ],
   "source": [
    "print(_)"
   ]
  },
  {
   "cell_type": "code",
   "execution_count": 63,
   "metadata": {},
   "outputs": [
    {
     "data": {
      "text/latex": [
       "$\\displaystyle - \\frac{4 c_{1} \\sqrt[4]{1 - \\left(- p + z\\right)^{2}} \\left(p - z\\right)^{2}}{5} + \\frac{4 c_{1} \\sqrt[4]{1 - \\left(- p + z\\right)^{2}}}{5} + c_{1} \\left(p - z\\right)^{2} - c_{1} - \\frac{2 c_{2} \\sqrt{1 - \\left(- p + z\\right)^{2}} \\left(p - z\\right)^{2}}{3} + \\frac{2 c_{2} \\sqrt{1 - \\left(- p + z\\right)^{2}}}{3} + c_{2} \\left(p - z\\right)^{2} - c_{2} - \\frac{4 c_{3} \\left(1 - \\left(- p + z\\right)^{2}\\right)^{\\frac{3}{4}} \\left(p - z\\right)^{2}}{7} + \\frac{4 c_{3} \\left(1 - \\left(- p + z\\right)^{2}\\right)^{\\frac{3}{4}}}{7} + c_{3} \\left(p - z\\right)^{2} - c_{3} + \\frac{c_{4} \\left(p - z\\right)^{4}}{2} - \\frac{c_{4}}{2} - \\left(p - z\\right)^{2} + 1$"
      ],
      "text/plain": [
       "-4*c1*(1 - (-p + z)**2)**(1/4)*(p - z)**2/5 + 4*c1*(1 - (-p + z)**2)**(1/4)/5 + c1*(p - z)**2 - c1 - 2*c2*sqrt(1 - (-p + z)**2)*(p - z)**2/3 + 2*c2*sqrt(1 - (-p + z)**2)/3 + c2*(p - z)**2 - c2 - 4*c3*(1 - (-p + z)**2)**(3/4)*(p - z)**2/7 + 4*c3*(1 - (-p + z)**2)**(3/4)/7 + c3*(p - z)**2 - c3 + c4*(p - z)**4/2 - c4/2 - (p - z)**2 + 1"
      ]
     },
     "execution_count": 63,
     "metadata": {},
     "output_type": "execute_result"
    }
   ],
   "source": [
    "inside = sm.integrate(Ir * 2 * r, (r, z-p, 1))\n",
    "sm.simplify(inside)"
   ]
  },
  {
   "cell_type": "code",
   "execution_count": 64,
   "metadata": {},
   "outputs": [],
   "source": [
    "result = sm.simplify(sm.collect(sm.collect(sm.simplify(sm.expand(inside)), -p**2 - 2 * p * z - z**2 + 1),-p**2 + 2 * p * z - z**2 + 1)) "
   ]
  },
  {
   "cell_type": "code",
   "execution_count": 65,
   "metadata": {},
   "outputs": [
    {
     "data": {
      "text/latex": [
       "$\\displaystyle c_{1} p^{2} - 2 c_{1} p z + c_{1} z^{2} + \\frac{4 c_{1} \\left(- p^{2} + 2 p z - z^{2} + 1\\right)^{\\frac{5}{4}}}{5} - c_{1} + c_{2} p^{2} - 2 c_{2} p z + c_{2} z^{2} + \\frac{2 c_{2} \\left(- p^{2} + 2 p z - z^{2} + 1\\right)^{\\frac{3}{2}}}{3} - c_{2} + c_{3} p^{2} - 2 c_{3} p z + c_{3} z^{2} + \\frac{4 c_{3} \\left(- p^{2} + 2 p z - z^{2} + 1\\right)^{\\frac{7}{4}}}{7} - c_{3} + \\frac{c_{4} p^{4}}{2} - 2 c_{4} p^{3} z + 3 c_{4} p^{2} z^{2} - 2 c_{4} p z^{3} + \\frac{c_{4} z^{4}}{2} - \\frac{c_{4}}{2} - p^{2} + 2 p z - z^{2} + 1$"
      ],
      "text/plain": [
       "c1*p**2 - 2*c1*p*z + c1*z**2 + 4*c1*(-p**2 + 2*p*z - z**2 + 1)**(5/4)/5 - c1 + c2*p**2 - 2*c2*p*z + c2*z**2 + 2*c2*(-p**2 + 2*p*z - z**2 + 1)**(3/2)/3 - c2 + c3*p**2 - 2*c3*p*z + c3*z**2 + 4*c3*(-p**2 + 2*p*z - z**2 + 1)**(7/4)/7 - c3 + c4*p**4/2 - 2*c4*p**3*z + 3*c4*p**2*z**2 - 2*c4*p*z**3 + c4*z**4/2 - c4/2 - p**2 + 2*p*z - z**2 + 1"
      ]
     },
     "execution_count": 65,
     "metadata": {},
     "output_type": "execute_result"
    }
   ],
   "source": [
    "result"
   ]
  },
  {
   "cell_type": "code",
   "execution_count": 71,
   "metadata": {},
   "outputs": [
    {
     "data": {
      "text/latex": [
       "$\\displaystyle \\frac{4 \\beta^{\\frac{7}{4}} c_{3}}{7} + \\frac{4 \\beta^{\\frac{5}{4}} c_{1}}{5} + \\frac{2 \\beta^{\\frac{3}{2}} c_{2}}{3} + \\beta + c_{1} p^{2} - 2 c_{1} p z + c_{1} z^{2} - c_{1} + c_{2} p^{2} - 2 c_{2} p z + c_{2} z^{2} - c_{2} + c_{3} p^{2} - 2 c_{3} p z + c_{3} z^{2} - c_{3} + \\frac{c_{4} p^{4}}{2} - 2 c_{4} p^{3} z + 3 c_{4} p^{2} z^{2} - 2 c_{4} p z^{3} + \\frac{c_{4} z^{4}}{2} - \\frac{c_{4}}{2}$"
      ],
      "text/plain": [
       "4*beta**(7/4)*c3/7 + 4*beta**(5/4)*c1/5 + 2*beta**(3/2)*c2/3 + beta + c1*p**2 - 2*c1*p*z + c1*z**2 - c1 + c2*p**2 - 2*c2*p*z + c2*z**2 - c2 + c3*p**2 - 2*c3*p*z + c3*z**2 - c3 + c4*p**4/2 - 2*c4*p**3*z + 3*c4*p**2*z**2 - 2*c4*p*z**3 + c4*z**4/2 - c4/2"
      ]
     },
     "execution_count": 71,
     "metadata": {},
     "output_type": "execute_result"
    }
   ],
   "source": [
    "result.subs(-p**2 - 2 * p * z - z**2 + 1, alpha).subs(-p**2 + 2 * p * z - z**2 + 1, beta)"
   ]
  },
  {
   "cell_type": "code",
   "execution_count": 29,
   "metadata": {},
   "outputs": [],
   "source": [
    "import sympy as sm\n",
    "r, a, e, w, i = sm.symbols(['r', 'a', 'e', 'w', 'i'], real=True, positive=True)\n",
    "x, y = sm.symbols(['x', 'y'], real=True)\n",
    "v = y / (x - a*e)\n",
    "sol = sm.atan(v)"
   ]
  },
  {
   "cell_type": "code",
   "execution_count": 30,
   "metadata": {},
   "outputs": [],
   "source": [
    "f = sol\n",
    "g = sm.sqrt(x**2+y**2) - (a*(1-e**2)/(1+e*sm.cos(f)))*sm.sqrt(1-(sm.sin(w+f)**2)*sm.sin(i)**2)"
   ]
  },
  {
   "cell_type": "code",
   "execution_count": 38,
   "metadata": {},
   "outputs": [
    {
     "data": {
      "text/latex": [
       "$\\displaystyle \\frac{a e^{2} \\sqrt{- \\sin^{2}{\\left(i \\right)} \\sin^{2}{\\left(w + \\operatorname{atan}{\\left(\\frac{y}{- a e + x} \\right)} \\right)} + 1}}{\\frac{e}{\\sqrt{\\frac{y^{2}}{a^{2} e^{2} - 2 a e x + x^{2}} + 1}} + 1} - \\frac{a \\sqrt{- \\sin^{2}{\\left(i \\right)} \\sin^{2}{\\left(w + \\operatorname{atan}{\\left(\\frac{y}{- a e + x} \\right)} \\right)} + 1}}{\\frac{e}{\\sqrt{\\frac{y^{2}}{a^{2} e^{2} - 2 a e x + x^{2}} + 1}} + 1} + \\sqrt{x^{2} + y^{2}}$"
      ],
      "text/plain": [
       "a*e**2*sqrt(-sin(i)**2*sin(w + atan(y/(-a*e + x)))**2 + 1)/(e/sqrt(y**2/(a**2*e**2 - 2*a*e*x + x**2) + 1) + 1) - a*sqrt(-sin(i)**2*sin(w + atan(y/(-a*e + x)))**2 + 1)/(e/sqrt(y**2/(a**2*e**2 - 2*a*e*x + x**2) + 1) + 1) + sqrt(x**2 + y**2)"
      ]
     },
     "execution_count": 38,
     "metadata": {},
     "output_type": "execute_result"
    }
   ],
   "source": [
    "sm.expand(g)"
   ]
  },
  {
   "cell_type": "code",
   "execution_count": null,
   "metadata": {},
   "outputs": [],
   "source": []
  }
 ],
 "metadata": {
  "kernelspec": {
   "display_name": "Python 3",
   "language": "python",
   "name": "python3"
  },
  "language_info": {
   "codemirror_mode": {
    "name": "ipython",
    "version": 3
   },
   "file_extension": ".py",
   "mimetype": "text/x-python",
   "name": "python",
   "nbconvert_exporter": "python",
   "pygments_lexer": "ipython3",
   "version": "3.8.6"
  }
 },
 "nbformat": 4,
 "nbformat_minor": 4
}
