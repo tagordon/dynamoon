{
 "cells": [
  {
   "cell_type": "code",
   "execution_count": 1,
   "metadata": {},
   "outputs": [],
   "source": [
    "import sympy as sm"
   ]
  },
  {
   "cell_type": "code",
   "execution_count": 2,
   "metadata": {},
   "outputs": [],
   "source": [
    "# nonlinear limb-darkening coefficients\n",
    "c1, c2, c3, c4, r, z, p = sm.symbols(['c1', 'c2', 'c3', 'c4', 'r', 'z', 'p'], real=True, positive=True)"
   ]
  },
  {
   "cell_type": "code",
   "execution_count": 3,
   "metadata": {},
   "outputs": [],
   "source": [
    "# intensity function \n",
    "mu = sm.sqrt(1 - r**2)\n",
    "Ir = 1 - c1 * (1 - mu ** sm.Rational(1/2)) - c2 * (1 - mu) - c3 * (1 - mu ** sm.Rational(3/2)) - c4 * (1 - mu ** 2)"
   ]
  },
  {
   "cell_type": "code",
   "execution_count": 4,
   "metadata": {},
   "outputs": [],
   "source": [
    "# integral when the planet is entirely occulting the star\n",
    "inside = sm.integrate(Ir * 2 * r, (r, z-p, z+p))"
   ]
  },
  {
   "cell_type": "code",
   "execution_count": 5,
   "metadata": {},
   "outputs": [
    {
     "data": {
      "text/latex": [
       "$\\displaystyle - \\frac{4 \\alpha^{\\frac{7}{4}} c_{3}}{7} - \\frac{4 \\alpha^{\\frac{5}{4}} c_{1}}{5} - \\frac{2 \\alpha^{\\frac{3}{2}} c_{2}}{3} + \\frac{4 \\beta^{\\frac{7}{4}} c_{3}}{7} + \\frac{4 \\beta^{\\frac{5}{4}} c_{1}}{5} + \\frac{2 \\beta^{\\frac{3}{2}} c_{2}}{3} - 4 c_{1} p z - 4 c_{2} p z - 4 c_{3} p z - 4 c_{4} p^{3} z - 4 c_{4} p z^{3} + 4 p z$"
      ],
      "text/plain": [
       "-4*alpha**(7/4)*c3/7 - 4*alpha**(5/4)*c1/5 - 2*alpha**(3/2)*c2/3 + 4*beta**(7/4)*c3/7 + 4*beta**(5/4)*c1/5 + 2*beta**(3/2)*c2/3 - 4*c1*p*z - 4*c2*p*z - 4*c3*p*z - 4*c4*p**3*z - 4*c4*p*z**3 + 4*p*z"
      ]
     },
     "execution_count": 5,
     "metadata": {},
     "output_type": "execute_result"
    }
   ],
   "source": [
    "# simplify and make some substitutions\n",
    "result = sm.simplify(sm.collect(sm.collect(sm.simplify(sm.expand(inside)), -p**2 - 2 * p * z - z**2 + 1),-p**2 + 2 * p * z - z**2 + 1))\n",
    "alpha, beta = sm.symbols(['alpha', 'beta'], real=True)\n",
    "result = result.subs(-p**2 - 2 * p * z - z**2 + 1, alpha).subs(-p**2 + 2 * p * z - z**2 + 1, beta)\n",
    "result"
   ]
  },
  {
   "cell_type": "code",
   "execution_count": 9,
   "metadata": {},
   "outputs": [],
   "source": [
    "# integral when the planet is only partially occulting the star\n",
    "edge = sm.integrate(Ir * 2 * r, (r, z-p, 1))"
   ]
  },
  {
   "cell_type": "code",
   "execution_count": 10,
   "metadata": {},
   "outputs": [],
   "source": [
    "# simplify\n",
    "result = sm.simplify(sm.collect(sm.collect(sm.simplify(sm.expand(edge)), -p**2 - 2 * p * z - z**2 + 1),-p**2 + 2 * p * z - z**2 + 1))\n",
    "result = result.subs(-p**2 - 2 * p * z - z**2 + 1, alpha).subs(-p**2 + 2 * p * z - z**2 + 1, beta)"
   ]
  },
  {
   "cell_type": "code",
   "execution_count": 11,
   "metadata": {},
   "outputs": [
    {
     "data": {
      "text/latex": [
       "$\\displaystyle \\frac{4 \\beta^{\\frac{7}{4}} c_{3}}{7} + \\frac{4 \\beta^{\\frac{5}{4}} c_{1}}{5} + \\frac{2 \\beta^{\\frac{3}{2}} c_{2}}{3} + \\beta + c_{1} p^{2} - 2 c_{1} p z + c_{1} z^{2} - c_{1} + c_{2} p^{2} - 2 c_{2} p z + c_{2} z^{2} - c_{2} + c_{3} p^{2} - 2 c_{3} p z + c_{3} z^{2} - c_{3} + \\frac{c_{4} p^{4}}{2} - 2 c_{4} p^{3} z + 3 c_{4} p^{2} z^{2} - 2 c_{4} p z^{3} + \\frac{c_{4} z^{4}}{2} - \\frac{c_{4}}{2}$"
      ],
      "text/plain": [
       "4*beta**(7/4)*c3/7 + 4*beta**(5/4)*c1/5 + 2*beta**(3/2)*c2/3 + beta + c1*p**2 - 2*c1*p*z + c1*z**2 - c1 + c2*p**2 - 2*c2*p*z + c2*z**2 - c2 + c3*p**2 - 2*c3*p*z + c3*z**2 - c3 + c4*p**4/2 - 2*c4*p**3*z + 3*c4*p**2*z**2 - 2*c4*p*z**3 + c4*z**4/2 - c4/2"
      ]
     },
     "execution_count": 11,
     "metadata": {},
     "output_type": "execute_result"
    }
   ],
   "source": [
    "result"
   ]
  },
  {
   "cell_type": "code",
   "execution_count": null,
   "metadata": {},
   "outputs": [],
   "source": []
  }
 ],
 "metadata": {
  "kernelspec": {
   "display_name": "Python 3",
   "language": "python",
   "name": "python3"
  },
  "language_info": {
   "codemirror_mode": {
    "name": "ipython",
    "version": 3
   },
   "file_extension": ".py",
   "mimetype": "text/x-python",
   "name": "python",
   "nbconvert_exporter": "python",
   "pygments_lexer": "ipython3",
   "version": "3.8.6"
  }
 },
 "nbformat": 4,
 "nbformat_minor": 4
}
