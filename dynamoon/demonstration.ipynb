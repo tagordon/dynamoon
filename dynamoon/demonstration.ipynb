{
 "cells": [
  {
   "cell_type": "code",
   "execution_count": null,
   "metadata": {},
   "outputs": [],
   "source": [
    "import dynamoon as dm\n",
    "import matplotlib.pyplot as plt"
   ]
  },
  {
   "cell_type": "code",
   "execution_count": null,
   "metadata": {},
   "outputs": [],
   "source": [
    "star = dm.star(1, 1, [0.5, 0.5])\n",
    "planet = dm.rock(10, 1)\n",
    "moon = dm.rock(0.5, 0.5)"
   ]
  },
  {
   "cell_type": "code",
   "execution_count": null,
   "metadata": {},
   "outputs": [],
   "source": [
    "t = np.linspace(3.5, 4.5, 100000)\n",
    "sys = dm.system(star, planet, moon)\n",
    "sys.set_planet_orbit(t0=4, e=0.0, P=365, Omega=180, w=0, i=90)\n",
    "sys.set_moon_orbit(t0=0.15, e=0.1, P=28, Omega=80, w=0, i=90)"
   ]
  },
  {
   "cell_type": "code",
   "execution_count": null,
   "metadata": {},
   "outputs": [],
   "source": [
    "%time flux = sys.flux(t)\n",
    "plt.plot(t, flux, '-')\n",
    "#plt.xlim(4.26, 4.28)\n",
    "#plt.axvline(3.9755)"
   ]
  },
  {
   "cell_type": "code",
   "execution_count": null,
   "metadata": {},
   "outputs": [],
   "source": [
    "fig = plt.figure(figsize=(5, 5))\n",
    "sys.draw_config(fig.gca(), 4.27)\n",
    "plt.xlim(-1.1, -0.9)\n",
    "plt.ylim(-0.1, 0.1)"
   ]
  },
  {
   "cell_type": "code",
   "execution_count": null,
   "metadata": {},
   "outputs": [],
   "source": [
    "from IPython.display import HTML\n",
    "\n",
    "stkwargs = {\"fill\": True, \"color\":\"#ffbb4d\"}\n",
    "plkwargs = {\"fill\": True, \"color\":\"#4c89d4\", \"alpha\":1}\n",
    "mokwargs = {\"fill\": True, \"color\":\"#ff4a4a\", \"alpha\":1}\n",
    "\n",
    "animation = sys.animate(np.linspace(3.6, 4.4, 200), \n",
    "                        stkwargs=stkwargs, \n",
    "                        plkwargs=plkwargs, \n",
    "                        mokwargs=mokwargs, duration=5)\n",
    "\n",
    "HTML(animation.to_html5_video())"
   ]
  },
  {
   "cell_type": "code",
   "execution_count": null,
   "metadata": {},
   "outputs": [],
   "source": [
    "import batman\n",
    "from astropy import constants as ac\n",
    "\n",
    "params = batman.TransitParams()\n",
    "params.t0 = 4                       \n",
    "params.per = 100                      \n",
    "params.rp = 1 / sys.star.radius                    \n",
    "params.a = sys.starplanet.a * ac.au.value / (sys.star.radius * ac.R_earth.value)\n",
    "params.inc = 90                     \n",
    "params.ecc = 0.2                     \n",
    "params.w = 180                       \n",
    "params.u = [0.5, 0.5]                \n",
    "params.limb_dark = \"quadratic\"       "
   ]
  },
  {
   "cell_type": "code",
   "execution_count": null,
   "metadata": {},
   "outputs": [],
   "source": [
    "%time m = batman.TransitModel(params, t)    \n",
    "%time flux_batman = m.light_curve(params)          "
   ]
  },
  {
   "cell_type": "code",
   "execution_count": null,
   "metadata": {},
   "outputs": [],
   "source": [
    "plt.plot(t, flux_batman, color='k')\n",
    "plt.plot(t, flux+1)\n",
    "plt.xlim(3, 5)"
   ]
  },
  {
   "cell_type": "code",
   "execution_count": null,
   "metadata": {},
   "outputs": [],
   "source": [
    "plt.plot(t, ((flux+1) - flux_batman)*1e6)\n",
    "plt.xlim(3, 5)\n",
    "plt.ylim(-2, 1)"
   ]
  },
  {
   "cell_type": "code",
   "execution_count": null,
   "metadata": {},
   "outputs": [],
   "source": [
    "plt.plot(flux_batman)"
   ]
  },
  {
   "cell_type": "code",
   "execution_count": null,
   "metadata": {},
   "outputs": [],
   "source": [
    "0.003216 / 0.005202"
   ]
  },
  {
   "cell_type": "code",
   "execution_count": null,
   "metadata": {},
   "outputs": [],
   "source": [
    "bb = 0.0\n",
    "Tb = 13\n",
    "ep = 0.01\n",
    "P = 365 * 24 \n",
    "i = 90 * np.pi / 180\n",
    "np.sqrt(1 - bb**2) / np.sin(Tb * np.pi / P * np.sqrt(1 - ep**2)) / np.sin(i)"
   ]
  },
  {
   "cell_type": "code",
   "execution_count": null,
   "metadata": {},
   "outputs": [],
   "source": [
    "ac.au.value / ac.R_sun.value"
   ]
  },
  {
   "cell_type": "code",
   "execution_count": null,
   "metadata": {},
   "outputs": [],
   "source": [
    "import dynamoon as dm\n",
    "import matplotlib.pyplot as plt\n",
    "\n",
    "taub = 4\n",
    "rp = ac.R_earth.value / ac.R_sun.value\n",
    "Pb = 365\n",
    "bb = 0.0\n",
    "mm = 0.012\n",
    "rm = 0.25 * rp\n",
    "bm = 0.1\n",
    "emcosw = 0.0\n",
    "emsinw = 0.0\n",
    "omegam = 0.0\n",
    "u1 = 0.5\n",
    "u2 = 0.5\n",
    "Pm = 28\n",
    "%time sys = dm.system.from_fitting_params(taub, rp, Pb, bb, mm, rm, bm, Pm, emcosw, emsinw, omegam, u1, u2)"
   ]
  },
  {
   "cell_type": "code",
   "execution_count": null,
   "metadata": {},
   "outputs": [],
   "source": [
    "t = np.linspace(2, 5, 100000)\n",
    "%time flux = sys.flux(t)\n",
    "plt.plot(t*24, flux, '-')\n",
    "plt.axvline(taub*24 - 13/2)\n",
    "plt.axvline(taub*24 + 13/2)"
   ]
  },
  {
   "cell_type": "code",
   "execution_count": null,
   "metadata": {},
   "outputs": [],
   "source": [
    "from IPython.display import HTML\n",
    "\n",
    "stkwargs = {\"fill\": True, \"color\":\"#ffbb4d\"}\n",
    "plkwargs = {\"fill\": True, \"color\":\"#4c89d4\", \"alpha\":1}\n",
    "mokwargs = {\"fill\": True, \"color\":\"#ff4a4a\", \"alpha\":1}\n",
    "\n",
    "animation = sys.animate(np.linspace(, 200), \n",
    "                        stkwargs=stkwargs, \n",
    "                        plkwargs=plkwargs, \n",
    "                        mokwargs=mokwargs, duration=5)\n",
    "\n",
    "HTML(animation.to_html5_video())"
   ]
  },
  {
   "cell_type": "code",
   "execution_count": null,
   "metadata": {},
   "outputs": [],
   "source": [
    "import emcee"
   ]
  },
  {
   "cell_type": "code",
   "execution_count": 6,
   "metadata": {},
   "outputs": [],
   "source": [
    "noise = np.loadtxt('/Users/tgordon/research/nirspec/JexoSim/output/case_studies/ngts11b_1.dat')"
   ]
  },
  {
   "cell_type": "code",
   "execution_count": 7,
   "metadata": {},
   "outputs": [],
   "source": [
    "from astropy.io import fits\n",
    "file = '/Users/tgordon/research/nirspec/JexoSim/output/jexosim_intermediate_NIRSpec_BOTS_PRISM_NGTS-11 b_2021_03_23_1714_15.fits'\n",
    "file = open(file, 'rb')\n",
    "data = fits.open(file)\n",
    "wv = data[2].data\n",
    "wv = np.array([x[0] for x in np.array(wv)])\n",
    "t = data[3].data\n",
    "t = np.array([x[0] for x in np.array(t)])"
   ]
  },
  {
   "cell_type": "code",
   "execution_count": 8,
   "metadata": {},
   "outputs": [],
   "source": [
    "noise = np.sum(noise, axis=1)"
   ]
  },
  {
   "cell_type": "code",
   "execution_count": 9,
   "metadata": {},
   "outputs": [
    {
     "ename": "NameError",
     "evalue": "name 'plt' is not defined",
     "output_type": "error",
     "traceback": [
      "\u001b[0;31m---------------------------------------------------------------------------\u001b[0m",
      "\u001b[0;31mNameError\u001b[0m                                 Traceback (most recent call last)",
      "\u001b[0;32m<ipython-input-9-49404ae4b2f3>\u001b[0m in \u001b[0;36m<module>\u001b[0;34m\u001b[0m\n\u001b[1;32m      1\u001b[0m \u001b[0mtp\u001b[0m \u001b[0;34m=\u001b[0m \u001b[0mt\u001b[0m \u001b[0;34m/\u001b[0m \u001b[0;34m(\u001b[0m\u001b[0;36m60\u001b[0m \u001b[0;34m*\u001b[0m \u001b[0;36m60\u001b[0m \u001b[0;34m*\u001b[0m \u001b[0;36m24\u001b[0m\u001b[0;34m)\u001b[0m\u001b[0;34m\u001b[0m\u001b[0;34m\u001b[0m\u001b[0m\n\u001b[0;32m----> 2\u001b[0;31m \u001b[0mplt\u001b[0m\u001b[0;34m.\u001b[0m\u001b[0mplot\u001b[0m\u001b[0;34m(\u001b[0m\u001b[0mtp\u001b[0m\u001b[0;34m,\u001b[0m \u001b[0mnoise\u001b[0m\u001b[0;34m/\u001b[0m\u001b[0mnp\u001b[0m\u001b[0;34m.\u001b[0m\u001b[0mmean\u001b[0m\u001b[0;34m(\u001b[0m\u001b[0mnoise\u001b[0m\u001b[0;34m)\u001b[0m\u001b[0;34m)\u001b[0m\u001b[0;34m\u001b[0m\u001b[0;34m\u001b[0m\u001b[0m\n\u001b[0m",
      "\u001b[0;31mNameError\u001b[0m: name 'plt' is not defined"
     ]
    }
   ],
   "source": [
    "tp = t / (60 * 60 * 24)\n",
    "plt.plot(tp, noise/np.mean(noise))"
   ]
  },
  {
   "cell_type": "code",
   "execution_count": null,
   "metadata": {},
   "outputs": [],
   "source": [
    "import imp\n",
    "imp.reload(dm)\n",
    "taub = 0.2\n",
    "rp = 5\n",
    "Pb = 35\n",
    "bb = 0.0\n",
    "mm = 0.012 \n",
    "rm = 0.4 * rp\n",
    "bm = 0.1\n",
    "emcosw = 0.0\n",
    "emsinw = 0.0\n",
    "omegam = 0.0\n",
    "u1 = 0.5\n",
    "u2 = 0.5\n",
    "Pm = 28\n",
    "%time sys = dm.system.from_fitting_params(taub, rp, Pb, bb, mm, rm, bm, Pm, emcosw, emsinw, omegam, u1, u2)"
   ]
  },
  {
   "cell_type": "code",
   "execution_count": null,
   "metadata": {},
   "outputs": [],
   "source": [
    "%time flux = sys.flux(tp)\n",
    "plt.plot(tp, flux)"
   ]
  },
  {
   "cell_type": "code",
   "execution_count": null,
   "metadata": {},
   "outputs": [],
   "source": [
    "plt.plot(tp, flux + noise/np.mean(noise), '.')"
   ]
  },
  {
   "cell_type": "code",
   "execution_count": null,
   "metadata": {},
   "outputs": [],
   "source": [
    "import celerite2\n",
    "\n",
    "y = flux + noise/np.mean(noise)\n",
    "x = tp\n",
    "\n",
    "def logp(args, x, y):\n",
    "    \n",
    "    ls0, lw0, taub, rp, Pb, bb, mm, rm, bm, emcosw, emsinw, omegam, u1, u2, Pm, yerr, f0 = args\n",
    "    s0, w0 = np.exp(ls0), np.exp(lw0)\n",
    "    \n",
    "    bounds = {\"ls0\": (-np.inf, 0),\n",
    "              \"lw0\": (-np.inf, np.inf),\n",
    "              \"taub\": (x.min(), x.max()), \n",
    "              \"rp\": (0, np.inf), \n",
    "              \"Pb\": (0, np.inf), \n",
    "              \"bb\": (0, 1), \n",
    "              \"mm\": (0, np.inf), \n",
    "              \"rm\": (0, np.inf), \n",
    "              \"bm\": (0, 1), \n",
    "              \"emcosw\": (0, 1), \n",
    "              \"emsinw\": (0, 1), \n",
    "              \"omegam\": (0, 360), \n",
    "              \"u1\": (0, 1), \n",
    "              \"u2\": (0, 1), \n",
    "              \"Pm\": (0, np.inf),\n",
    "              \"yerr\": (0, 1), \n",
    "              \"f0\": (-np.inf, np.inf)}\n",
    "    \n",
    "    inbound = np.array([(a <= b[1]) & (a >= b[0]) for a, b in zip(args, list(bounds.values()))])\n",
    "    if np.any(inbound) == False:\n",
    "        return -np.inf\n",
    "    \n",
    "    if not ((u1 + u2) < 1) & (u1 > 0) & ((u1 + 2*u2) > 0):\n",
    "        return -np.inf\n",
    "    \n",
    "    \n",
    "    term = celerite2.terms.SHOTerm(S0=s0, w0=w0, Q=1/np.sqrt(2))\n",
    "    sys = dm.system.from_fitting_params(taub, rp, Pb, bb, mm, rm, bm, Pm, emcosw, emsinw, omegam, u1, u2)\n",
    "    mu = sys.flux(x)\n",
    "    r = y - mu - f0\n",
    "    gp = celerite2.GaussianProcess(term, mean=0)\n",
    "    gp.compute(x, yerr = yerr*np.ones_like(x))\n",
    "    return gp.log_likelihood(r)\n",
    "\n",
    "nll = lambda args, x, y: -logp(args, x, y)"
   ]
  },
  {
   "cell_type": "code",
   "execution_count": null,
   "metadata": {},
   "outputs": [],
   "source": [
    "p0 = {\"ls0\": -23,\n",
    "      \"lw0\": 6,\n",
    "      \"taub\": 0.2,\n",
    "      \"rp\": 5,\n",
    "      \"Pb\": 35,\n",
    "      \"bb\": 0.0,\n",
    "      \"mm\": 0.012,\n",
    "      \"rm\": 2,\n",
    "      \"bm\": 0.1,\n",
    "      \"emcosw\": 0.0,\n",
    "      \"emsinw\": 0.0,\n",
    "      \"omegam\": 0.0,\n",
    "      \"u1\": 0.5,\n",
    "      \"u2\": 0.3,\n",
    "      \"Pm\": 28,\n",
    "      \"yerr\": 0.002,\n",
    "      \"f0\": 1}\n",
    "\n",
    "nll(list(p0.values()), x, y)"
   ]
  },
  {
   "cell_type": "code",
   "execution_count": null,
   "metadata": {},
   "outputs": [],
   "source": [
    "from scipy.optimize import minimize\n",
    "\n",
    "res = minimize(nll, list(p0.values()), args=(x, y))"
   ]
  },
  {
   "cell_type": "code",
   "execution_count": null,
   "metadata": {},
   "outputs": [],
   "source": [
    "ls0, lw0, taub, rp, Pb, bb, mm, rm, bm, emcosw, emsinw, omegam, u1, u2, Pm, yerr, f0 = res.x\n",
    "s0, w0 = np.exp(ls0), np.exp(lw0)\n",
    "term = celerite2.terms.SHOTerm(S0=s0, w0=w0, Q=1/np.sqrt(2))\n",
    "sys = dm.system.from_fitting_params(taub, rp, Pb, bb, mm, rm, bm, Pm, emcosw, emsinw, omegam, u1, u2)\n",
    "gp = celerite2.GaussianProcess(term, mean=0)\n",
    "gp.compute(x, yerr = yerr*np.ones_like(x))\n",
    "plt.plot(x, sys.flux(x) + gp.dot_tril(np.random.randn(len(x))))\n",
    "plt.plot(x, sys.flux(x), color='k')"
   ]
  },
  {
   "cell_type": "code",
   "execution_count": null,
   "metadata": {},
   "outputs": [],
   "source": [
    "import emcee\n",
    "nparams = len(p0)\n",
    "nwalkers = 36\n",
    "x0 = np.array(res.x)\n",
    "x0 = np.random.rand(nwalkers, nparams)*1e-8 + x0\n",
    "\n",
    "filename = \"../mcmc_output/1transit.h5\"\n",
    "backend = emcee.backends.HDFBackend(filename)\n",
    "backend.reset(nwalkers, nparams)\n",
    "\n",
    "sampler = emcee.EnsembleSampler(nwalkers, nparams, logp, args=[x, y], backend=backend)"
   ]
  },
  {
   "cell_type": "code",
   "execution_count": null,
   "metadata": {},
   "outputs": [],
   "source": [
    "sampler.run_mcmc(x0, 1000, progress=True)"
   ]
  },
  {
   "cell_type": "code",
   "execution_count": null,
   "metadata": {},
   "outputs": [],
   "source": [
    "import corner\n",
    "trace = emcee.backends.HDFBackend(filename)\n",
    "samples = trace.get_chain(flat=True)\n",
    "fig = corner.corner(samples, labels=list(p0.keys()));"
   ]
  },
  {
   "cell_type": "code",
   "execution_count": null,
   "metadata": {},
   "outputs": [],
   "source": []
  }
 ],
 "metadata": {
  "kernelspec": {
   "display_name": "Python 3",
   "language": "python",
   "name": "python3"
  },
  "language_info": {
   "codemirror_mode": {
    "name": "ipython",
    "version": 3
   },
   "file_extension": ".py",
   "mimetype": "text/x-python",
   "name": "python",
   "nbconvert_exporter": "python",
   "pygments_lexer": "ipython3",
   "version": "3.8.6"
  }
 },
 "nbformat": 4,
 "nbformat_minor": 4
}
