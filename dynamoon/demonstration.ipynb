{
 "cells": [
  {
   "cell_type": "code",
   "execution_count": null,
   "metadata": {},
   "outputs": [],
   "source": [
    "import dynamoon as dm\n",
    "import matplotlib.pyplot as plt"
   ]
  },
  {
   "cell_type": "code",
   "execution_count": null,
   "metadata": {},
   "outputs": [],
   "source": [
    "star = dm.star(1, 1, [0.5, 0.5])\n",
    "planet = dm.rock(10, 1)\n",
    "moon = dm.rock(0.5, 0.5)"
   ]
  },
  {
   "cell_type": "code",
   "execution_count": null,
   "metadata": {},
   "outputs": [],
   "source": [
    "t = np.linspace(3.5, 4.5, 100000)\n",
    "sys = dm.system(star, planet, moon)\n",
    "sys.set_planet_orbit(t0=4, e=0.0, P=365, Omega=180, w=0, i=90)\n",
    "sys.set_moon_orbit(t0=0.15, e=0.1, P=28, Omega=80, w=0, i=90)"
   ]
  },
  {
   "cell_type": "code",
   "execution_count": null,
   "metadata": {},
   "outputs": [],
   "source": [
    "%time flux = sys.flux(t)\n",
    "plt.plot(t, flux, '-')\n",
    "#plt.xlim(4.26, 4.28)\n",
    "#plt.axvline(3.9755)"
   ]
  },
  {
   "cell_type": "code",
   "execution_count": null,
   "metadata": {},
   "outputs": [],
   "source": [
    "fig = plt.figure(figsize=(5, 5))\n",
    "sys.draw_config(fig.gca(), 4.27)\n",
    "plt.xlim(-1.1, -0.9)\n",
    "plt.ylim(-0.1, 0.1)"
   ]
  },
  {
   "cell_type": "code",
   "execution_count": null,
   "metadata": {},
   "outputs": [],
   "source": [
    "from IPython.display import HTML\n",
    "\n",
    "stkwargs = {\"fill\": True, \"color\":\"#ffbb4d\"}\n",
    "plkwargs = {\"fill\": True, \"color\":\"#4c89d4\", \"alpha\":1}\n",
    "mokwargs = {\"fill\": True, \"color\":\"#ff4a4a\", \"alpha\":1}\n",
    "\n",
    "animation = sys.animate(np.linspace(3.6, 4.4, 200), \n",
    "                        stkwargs=stkwargs, \n",
    "                        plkwargs=plkwargs, \n",
    "                        mokwargs=mokwargs, duration=5)\n",
    "\n",
    "HTML(animation.to_html5_video())"
   ]
  },
  {
   "cell_type": "code",
   "execution_count": null,
   "metadata": {},
   "outputs": [],
   "source": [
    "import batman\n",
    "from astropy import constants as ac\n",
    "\n",
    "params = batman.TransitParams()\n",
    "params.t0 = 4                       \n",
    "params.per = 100                      \n",
    "params.rp = 1 / sys.star.radius                    \n",
    "params.a = sys.starplanet.a * ac.au.value / (sys.star.radius * ac.R_earth.value)\n",
    "params.inc = 90                     \n",
    "params.ecc = 0.2                     \n",
    "params.w = 180                       \n",
    "params.u = [0.5, 0.5]                \n",
    "params.limb_dark = \"quadratic\"       "
   ]
  },
  {
   "cell_type": "code",
   "execution_count": null,
   "metadata": {},
   "outputs": [],
   "source": [
    "%time m = batman.TransitModel(params, t)    \n",
    "%time flux_batman = m.light_curve(params)          "
   ]
  },
  {
   "cell_type": "code",
   "execution_count": null,
   "metadata": {},
   "outputs": [],
   "source": [
    "plt.plot(t, flux_batman, color='k')\n",
    "plt.plot(t, flux+1)\n",
    "plt.xlim(3, 5)"
   ]
  },
  {
   "cell_type": "code",
   "execution_count": null,
   "metadata": {},
   "outputs": [],
   "source": [
    "plt.plot(t, ((flux+1) - flux_batman)*1e6)\n",
    "plt.xlim(3, 5)\n",
    "plt.ylim(-2, 1)"
   ]
  },
  {
   "cell_type": "code",
   "execution_count": null,
   "metadata": {},
   "outputs": [],
   "source": [
    "plt.plot(flux_batman)"
   ]
  },
  {
   "cell_type": "code",
   "execution_count": null,
   "metadata": {},
   "outputs": [],
   "source": [
    "0.003216 / 0.005202"
   ]
  },
  {
   "cell_type": "code",
   "execution_count": null,
   "metadata": {},
   "outputs": [],
   "source": [
    "bb = 0.0\n",
    "Tb = 13\n",
    "ep = 0.01\n",
    "P = 365 * 24 \n",
    "i = 90 * np.pi / 180\n",
    "np.sqrt(1 - bb**2) / np.sin(Tb * np.pi / P * np.sqrt(1 - ep**2)) / np.sin(i)"
   ]
  },
  {
   "cell_type": "code",
   "execution_count": null,
   "metadata": {},
   "outputs": [],
   "source": [
    "ac.au.value / ac.R_sun.value"
   ]
  },
  {
   "cell_type": "code",
   "execution_count": 1,
   "metadata": {},
   "outputs": [
    {
     "name": "stdout",
     "output_type": "stream",
     "text": [
      "taub:  4 eb:  0.0 P:  8780.719807128566 wb:  0.0 ib:  90.0 \n",
      "em:  0.0 Pm:  28 Omegam:  0.0 wm:  0.0 im:  89.79537178101417\n"
     ]
    }
   ],
   "source": [
    "import dynamoon as dm\n",
    "import matplotlib.pyplot as plt\n",
    "\n",
    "taub = 4\n",
    "rp = ac.R_earth.value / ac.R_sun.value\n",
    "Tb = 13\n",
    "bb = 0.0\n",
    "mm = 0.012\n",
    "rm = 0.25 * rp\n",
    "bm = 0.1\n",
    "emcosw = 0.0\n",
    "emsinw = 0.0\n",
    "omegam = 0.0\n",
    "u1 = 0.5\n",
    "u2 = 0.5\n",
    "Pm = 28\n",
    "sys = dm.system.from_fitting_params(taub, rp, Tb, bb, mm, rm, bm, Pm, emcosw, emsinw, omegam, u1, u2)"
   ]
  },
  {
   "cell_type": "code",
   "execution_count": null,
   "metadata": {},
   "outputs": [],
   "source": [
    "np.arccos(43)"
   ]
  },
  {
   "cell_type": "code",
   "execution_count": 2,
   "metadata": {},
   "outputs": [
    {
     "name": "stdout",
     "output_type": "stream",
     "text": [
      "CPU times: user 21.8 ms, sys: 2.82 ms, total: 24.6 ms\n",
      "Wall time: 27.9 ms\n"
     ]
    },
    {
     "data": {
      "text/plain": [
       "[<matplotlib.lines.Line2D at 0x127eef6a0>]"
      ]
     },
     "execution_count": 2,
     "metadata": {},
     "output_type": "execute_result"
    },
    {
     "data": {
      "image/png": "[encoded data removed]",
      "text/plain": [
       "<Figure size 432x288 with 1 Axes>"
      ]
     },
     "metadata": {
      "needs_background": "light"
     },
     "output_type": "display_data"
    }
   ],
   "source": [
    "t = np.linspace(2, 5, 10000)\n",
    "%time flux = sys.flux(t)\n",
    "plt.plot(t, flux, '-')"
   ]
  },
  {
   "cell_type": "code",
   "execution_count": null,
   "metadata": {},
   "outputs": [],
   "source": [
    "from IPython.display import HTML\n",
    "\n",
    "stkwargs = {\"fill\": True, \"color\":\"#ffbb4d\"}\n",
    "plkwargs = {\"fill\": True, \"color\":\"#4c89d4\", \"alpha\":1}\n",
    "mokwargs = {\"fill\": True, \"color\":\"#ff4a4a\", \"alpha\":1}\n",
    "\n",
    "animation = sys.animate(np.linspace(3, 5, 200), \n",
    "                        stkwargs=stkwargs, \n",
    "                        plkwargs=plkwargs, \n",
    "                        mokwargs=mokwargs, duration=5)\n",
    "\n",
    "HTML(animation.to_html5_video())"
   ]
  },
  {
   "cell_type": "code",
   "execution_count": null,
   "metadata": {},
   "outputs": [],
   "source": [
    "np.sqrt(emcosw**2 + emsinw**2)"
   ]
  },
  {
   "cell_type": "code",
   "execution_count": null,
   "metadata": {},
   "outputs": [],
   "source": []
  }
 ],
 "metadata": {
  "kernelspec": {
   "display_name": "Python 3",
   "language": "python",
   "name": "python3"
  },
  "language_info": {
   "codemirror_mode": {
    "name": "ipython",
    "version": 3
   },
   "file_extension": ".py",
   "mimetype": "text/x-python",
   "name": "python",
   "nbconvert_exporter": "python",
   "pygments_lexer": "ipython3",
   "version": "3.8.6"
  }
 },
 "nbformat": 4,
 "nbformat_minor": 4
}
