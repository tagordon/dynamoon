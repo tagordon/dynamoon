{
 "cells": [
  {
   "cell_type": "code",
   "execution_count": 1,
   "metadata": {},
   "outputs": [],
   "source": [
    "import dynamoon as dm\n",
    "import matplotlib.pyplot as plt"
   ]
  },
  {
   "cell_type": "code",
   "execution_count": 2,
   "metadata": {},
   "outputs": [],
   "source": [
    "star = dm.star(1, 1, [0.5, 0.5])\n",
    "planet = dm.rock(1, 1)\n",
    "moon = dm.rock(0.3, 0.9)"
   ]
  },
  {
   "cell_type": "code",
   "execution_count": 3,
   "metadata": {},
   "outputs": [],
   "source": [
    "t = np.linspace(2, 20, 100000)\n",
    "sys = dm.system(star, planet, moon)\n",
    "sys.set_planet_orbit(t0=4, e=0.2, P=100, Omega=0, w=0, i=89.5)\n",
    "sys.set_moon_orbit(t0=2, e=0.1, P=1, Omega=0, w=0, i=87)"
   ]
  },
  {
   "cell_type": "code",
   "execution_count": 4,
   "metadata": {},
   "outputs": [
    {
     "name": "stdout",
     "output_type": "stream",
     "text": [
      "CPU times: user 70.1 ms, sys: 6.33 ms, total: 76.4 ms\n",
      "Wall time: 79.5 ms\n"
     ]
    },
    {
     "data": {
      "text/plain": [
       "(3.8, 4.2)"
      ]
     },
     "execution_count": 4,
     "metadata": {},
     "output_type": "execute_result"
    },
    {
     "data": {
      "image/png": "[encoded data removed]",
      "text/plain": [
       "<Figure size 432x288 with 1 Axes>"
      ]
     },
     "metadata": {
      "needs_background": "light"
     },
     "output_type": "display_data"
    }
   ],
   "source": [
    "%time flux = sys.flux(t)\n",
    "plt.plot(t, flux, '-')\n",
    "#plt.xlim(55600, 55700)\n",
    "plt.xlim(3.8, 4.2)\n",
    "#plt.axvline(sys.starplanet.t0 - sys.find_contacts_tmp(), color='k')\n",
    "#plt.axvline(9.90745)"
   ]
  },
  {
   "cell_type": "code",
   "execution_count": null,
   "metadata": {},
   "outputs": [],
   "source": [
    "from IPython.display import HTML\n",
    "\n",
    "stkwargs = {\"fill\": True, \"color\":\"#ffbb4d\"}\n",
    "plkwargs = {\"fill\": True, \"color\":\"k\", \"alpha\":1}\n",
    "mokwargs = {\"fill\": True, \"color\":\"k\", \"alpha\":1}\n",
    "\n",
    "ta, tb = sys.find_contacts()\n",
    "animation = sys.animate(np.linspace(ta, tb, 500), \n",
    "                        stkwargs=stkwargs, \n",
    "                        plkwargs=plkwargs, \n",
    "                        mokwargs=mokwargs)\n",
    "\n",
    "HTML(animation.to_html5_video())"
   ]
  },
  {
   "cell_type": "code",
   "execution_count": null,
   "metadata": {},
   "outputs": [],
   "source": [
    "%time np.int(5.83)"
   ]
  },
  {
   "cell_type": "code",
   "execution_count": null,
   "metadata": {},
   "outputs": [],
   "source": [
    "%time np.round(1.33)"
   ]
  },
  {
   "cell_type": "code",
   "execution_count": null,
   "metadata": {},
   "outputs": [],
   "source": [
    "%time [t for t in t]"
   ]
  },
  {
   "cell_type": "code",
   "execution_count": null,
   "metadata": {},
   "outputs": [],
   "source": [
    "-0.130353 / 0.00465"
   ]
  },
  {
   "cell_type": "code",
   "execution_count": null,
   "metadata": {},
   "outputs": [],
   "source": [
    "sys.G"
   ]
  },
  {
   "cell_type": "code",
   "execution_count": null,
   "metadata": {},
   "outputs": [],
   "source": []
  }
 ],
 "metadata": {
  "kernelspec": {
   "display_name": "Python 3",
   "language": "python",
   "name": "python3"
  },
  "language_info": {
   "codemirror_mode": {
    "name": "ipython",
    "version": 3
   },
   "file_extension": ".py",
   "mimetype": "text/x-python",
   "name": "python",
   "nbconvert_exporter": "python",
   "pygments_lexer": "ipython3",
   "version": "3.8.6"
  }
 },
 "nbformat": 4,
 "nbformat_minor": 4
}
